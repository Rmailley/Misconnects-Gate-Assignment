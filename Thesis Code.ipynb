{
 "cells": [
  {
   "cell_type": "code",
   "execution_count": 639,
   "metadata": {},
   "outputs": [],
   "source": [
    "import pandas as pd\n",
    "import dateutil.parser\n",
    "from collections import defaultdict\n",
    "import gurobipy as gp\n",
    "from gurobipy import GRB\n",
    "import numpy as np\n",
    "import itertools"
   ]
  },
  {
   "cell_type": "code",
   "execution_count": 640,
   "metadata": {},
   "outputs": [
    {
     "name": "stdout",
     "output_type": "stream",
     "text": [
      "Set parameter Username\n",
      "Academic license - for non-commercial use only - expires 2025-05-15\n",
      "Set parameter TimeLimit to value 300\n"
     ]
    }
   ],
   "source": [
    "e = gp.Env()\n",
    "e.setParam('TimeLimit', 5*60)\n",
    "\n",
    "model = gp.Model(\"AGAP\", env=e)"
   ]
  },
  {
   "cell_type": "markdown",
   "metadata": {},
   "source": [
    "objective = minimize $w_{ijab} \\cdot c_ij$\n",
    "\n",
    "where $w_{ijab} = 1 \\iff y_{ia} \\vee y_{jb} \\vee x_{ijab}$"
   ]
  },
  {
   "cell_type": "markdown",
   "metadata": {},
   "source": [
    "to do this, first we must get the sets of valid movements."
   ]
  },
  {
   "cell_type": "code",
   "execution_count": 641,
   "metadata": {},
   "outputs": [],
   "source": [
    "flights = pd.read_csv('UA_8_1_2023.csv')\n",
    "for flight in flights.itertuples():\n",
    "    if dateutil.parser.parse(flight[2]) < dateutil.parser.parse(flight[1]):\n",
    "        # drop this row from the df\n",
    "        flights.drop(flight.Index, inplace=True)\n",
    "flights = flights.iloc[:24]\n",
    "gates = pd.read_csv('stands.csv')\n",
    "\n",
    "# adding dummy gate for tarmac\n",
    "gates = list(gates['0']) + ['X']\n",
    "\n",
    "codes_unclean = list(pd.read_csv('us_airports.csv')['Code'])\n",
    "\n",
    "us_codes = codes = [code for code in codes_unclean if len(code) == 3]\n",
    "us_codes = set(us_codes)"
   ]
  },
  {
   "cell_type": "code",
   "execution_count": 642,
   "metadata": {},
   "outputs": [
    {
     "data": {
      "text/plain": [
       "['C5', 'C3', 'C7', 'C6', 'C9', 'C2', 'C4', 'C8', 'C1']"
      ]
     },
     "execution_count": 642,
     "metadata": {},
     "output_type": "execute_result"
    }
   ],
   "source": [
    "gates_prime = gates\n",
    "\n",
    "tuples = []\n",
    "\n",
    "for a in gates_prime:\n",
    "    if a == \"X\":\n",
    "        continue\n",
    "    for b in gates_prime:\n",
    "        for c in gates_prime:\n",
    "            if c == \"X\":\n",
    "                continue\n",
    "            tuples.append([a, b, c])\n",
    "\n",
    "\n",
    "# uncomment for single gate no tows\n",
    "\n",
    "gates_prime = gates[:-1]  # + ['C3', 'C4', 'C5', 'C6', 'C7', 'C8', 'C9', 'C10']\n",
    "np.random.shuffle(gates_prime)\n",
    "tuples = [[a, a, a] for a in gates_prime]\n",
    "\n",
    "intl_gates = []\n",
    "for g in gates_prime:\n",
    "    if g[0] == 'C' and int(g[1:]) <= 10:\n",
    "        intl_gates.append(g)\n",
    "intl_gates"
   ]
  },
  {
   "cell_type": "code",
   "execution_count": 643,
   "metadata": {},
   "outputs": [],
   "source": [
    "valid_combos = []\n",
    "for tup in tuples:\n",
    "    # 3 diff gates\n",
    "    if len(set(tup)) == 3 and \"X\" not in set(tup):\n",
    "        continue\n",
    "    # of type [c1, c2, c1]\n",
    "    if tup[0] == tup[2] and tup[1] != \"X\" and tup[0] != tup[1]:\n",
    "        continue\n",
    "\n",
    "    # of type [c1, c2, c2]\n",
    "    if tup[0] != tup[2] and tup[1] != \"X\":\n",
    "        continue\n",
    "    else:\n",
    "        valid_combos.append(tup)"
   ]
  },
  {
   "cell_type": "markdown",
   "metadata": {},
   "source": [
    "Now that we have our valid movements, we can find out which valid movements are allowed to be assigned to this turn"
   ]
  },
  {
   "cell_type": "code",
   "execution_count": 644,
   "metadata": {},
   "outputs": [],
   "source": [
    "flight_valid_gates = defaultdict(list)\n",
    "z_ijm = []\n",
    "flights_to_zijms = defaultdict(list)\n",
    "international_flights = {}\n",
    "\n",
    "for i in flights.itertuples():\n",
    "    flight_movements = []\n",
    "\n",
    "    if i[4] not in us_codes:\n",
    "        international_flights[i[-2]] = True\n",
    "\n",
    "    # Intl Origin\n",
    "    if i[4] not in us_codes and (i[4][0] != 'Y' or i[4] == 'DUB' or i[4] == 'SNN' or i[4] == 'SJU'):\n",
    "        # needs to be assigned an intl Gate\n",
    "        for mov in valid_combos:\n",
    "            if mov[0] in intl_gates:\n",
    "                flight_movements.append(mov)\n",
    "                flight_valid_gates[i[-1]].append(mov)\n",
    "                flight_valid_gates[i[-2]].append(mov)\n",
    "\n",
    "    # Widebody Aircraft\n",
    "    elif i[3][0] == '7':\n",
    "        for mov in valid_combos:\n",
    "            if mov[0] in intl_gates or mov[0] in ['D1', 'D3', 'D30', \"D11\", 'D15', 'D19']:\n",
    "                if mov[1] in intl_gates or mov[1] in ['D1', 'D3', 'D30', \"D11\", 'D15', 'D19'] or mov[1] == 'X':\n",
    "                    if mov[2] in intl_gates or mov[2] in ['D1', 'D3', 'D30', \"D11\", 'D15', 'D19']:\n",
    "                        flight_movements.append(mov)\n",
    "                        flight_valid_gates[i[-1]].append(mov)\n",
    "                        flight_valid_gates[i[-2]].append(mov)\n",
    "\n",
    "    else:\n",
    "        for mov in valid_combos:\n",
    "            flight_movements.append(mov)\n",
    "            flight_valid_gates[i[-1]].append(mov)\n",
    "            flight_valid_gates[i[-2]].append(mov)\n",
    "\n",
    "    f1, f2 = i[-2], i[-1]\n",
    "    for mov in flight_movements:\n",
    "\n",
    "        z_ijm.append(model.addVar(vtype=GRB.BINARY,\n",
    "                     name=f\"z_{f1}_{f2}_{mov[0]}_{mov[1]}_{mov[2]}\"))\n",
    "        flights_to_zijms[i[-1], i[-2]].append(z_ijm[-1])\n",
    "\n",
    "model.update()"
   ]
  },
  {
   "cell_type": "markdown",
   "metadata": {},
   "source": [
    "Now we can add the constraint that each flight pair operated by the same aicraft must be assigned exactly one movement."
   ]
  },
  {
   "cell_type": "code",
   "execution_count": 645,
   "metadata": {},
   "outputs": [],
   "source": [
    "for k, v in flights_to_zijms.items():\n",
    "    model.addConstr(gp.quicksum(v) == 1)"
   ]
  },
  {
   "cell_type": "markdown",
   "metadata": {},
   "source": [
    "If that flight is assigned that movement, then it must not conflict with any other flight's movements. so we must generate a list of conflicting movements."
   ]
  },
  {
   "cell_type": "code",
   "execution_count": 646,
   "metadata": {},
   "outputs": [],
   "source": [
    "movements = valid_combos\n",
    "k2 = set()\n",
    "for i in movements:\n",
    "    for j in movements:\n",
    "        k2.add((tuple(i), tuple(j)))"
   ]
  },
  {
   "cell_type": "code",
   "execution_count": 647,
   "metadata": {},
   "outputs": [],
   "source": [
    "seen = []\n",
    "overlap = []\n",
    "for i in flights.itertuples():\n",
    "    for j in flights.itertuples():\n",
    "        if i != j and (i, j) not in seen:\n",
    "            # (dep_j - arr_i)\n",
    "            c1 = (dateutil.parser.parse(\n",
    "                j[2]) - dateutil.parser.parse(i[1])).seconds / 60\n",
    "            # (dep_i - arr_j)\n",
    "            c2 = (dateutil.parser.parse(\n",
    "                i[2]) - dateutil.parser.parse(j[1])).seconds / 60\n",
    "\n",
    "            if max(dateutil.parser.parse(i[1]), dateutil.parser.parse(j[1])) < min(dateutil.parser.parse(i[2]), dateutil.parser.parse(j[2])):\n",
    "\n",
    "                overlap.append((i, j))\n",
    "\n",
    "            seen.append((j, i))"
   ]
  },
  {
   "cell_type": "markdown",
   "metadata": {},
   "source": [
    "Now we have a list of overlapping flights. but we must see how they overlap to see which movements actually conflict."
   ]
  },
  {
   "cell_type": "code",
   "execution_count": 648,
   "metadata": {},
   "outputs": [],
   "source": [
    "deplaning = 30\n",
    "boarding = 30\n",
    "\n",
    "disallowed = []\n",
    "\n",
    "for pair in overlap:\n",
    "\n",
    "    # calculate time in overlap\n",
    "    arrival_i, arrival_j = dateutil.parser.parse(\n",
    "        pair[0][1]), dateutil.parser.parse(pair[1][1])\n",
    "    departure_i, departure_j = dateutil.parser.parse(\n",
    "        pair[0][2]), dateutil.parser.parse(pair[1][2])\n",
    "    # arrival_i plus 30 mins\n",
    "    i_done_deplaning, j_done_deplaning = arrival_i + \\\n",
    "        pd.Timedelta(minutes=deplaning), arrival_j + \\\n",
    "        pd.Timedelta(minutes=deplaning)\n",
    "\n",
    "    i_boarding_start, j_boarding_start = departure_i - \\\n",
    "        pd.Timedelta(minutes=boarding), departure_j - \\\n",
    "        pd.Timedelta(minutes=boarding)\n",
    "\n",
    "    deplaning_overlap, idle_overlap, boarding_overlap, ideparturejarrival, jdepartureiarrival = False, False, False, False, False\n",
    "\n",
    "    if max(arrival_i, arrival_j) < min(i_done_deplaning, j_done_deplaning):\n",
    "        deplaning_overlap = True\n",
    "    if max(i_done_deplaning, j_done_deplaning) < min(i_boarding_start, j_boarding_start):\n",
    "        idle_overlap = True\n",
    "    if max(i_boarding_start, j_boarding_start) < min(departure_i, departure_j):\n",
    "        boarding_overlap = True\n",
    "    # deplaning and boarding overlap\n",
    "    if max(i_boarding_start, arrival_j) < min(departure_i, j_done_deplaning):\n",
    "        ideparturejarrival = True\n",
    "    if max(j_boarding_start, arrival_i) < min(departure_j, i_done_deplaning):\n",
    "        jdepartureiarrival = True\n",
    "\n",
    "    this_disallowed = set()\n",
    "    for tuples in k2:\n",
    "        if ideparturejarrival:\n",
    "            if tuples[0][2] == tuples[1][0]:\n",
    "                this_disallowed.add(tuples)\n",
    "\n",
    "        if deplaning_overlap:\n",
    "            if tuples[0][0] == tuples[1][0]:\n",
    "                this_disallowed.add(tuples)\n",
    "\n",
    "        if idle_overlap:\n",
    "            if tuples[0][1] == tuples[1][1] and tuples[0][1] != \"X\":\n",
    "                this_disallowed.add(tuples)\n",
    "\n",
    "        if boarding_overlap:\n",
    "            if tuples[0][2] == tuples[1][2]:\n",
    "                this_disallowed.add(tuples)\n",
    "\n",
    "    # add constraint 4.3\n",
    "    for disallowed_pair in this_disallowed:\n",
    "\n",
    "        k = model.getVarByName(\n",
    "            f\"z_{pair[0][-2]}_{pair[0][-1]}_{disallowed_pair[0][0]}_{disallowed_pair[0][1]}_{disallowed_pair[0][2]}\")\n",
    "        kprime = model.getVarByName(\n",
    "            f\"z_{pair[1][-2]}_{pair[1][-1]}_{disallowed_pair[1][0]}_{disallowed_pair[1][1]}_{disallowed_pair[1][2]}\")\n",
    "\n",
    "        if not k:\n",
    "            k = model.addVar(\n",
    "                vtype=GRB.BINARY, name=f\"z_{pair[0][-2]}_{pair[0][-1]}_{disallowed_pair[0][0]}_{disallowed_pair[0][1]}_{disallowed_pair[0][2]}\")\n",
    "            model.update()\n",
    "            z_ijm.append(k)\n",
    "\n",
    "        if not kprime:\n",
    "            kprime = model.addVar(\n",
    "                vtype=GRB.BINARY, name=f\"z_{pair[1][-2]}_{pair[1][-1]}_{disallowed_pair[1][0]}_{disallowed_pair[1][1]}_{disallowed_pair[1][2]}\")\n",
    "            model.update()\n",
    "            z_ijm.append(kprime)\n",
    "\n",
    "        model.addConstr(k + kprime <= 1, name=k.varName + kprime.varName)\n",
    "\n",
    "        k = model.getVarByName(\n",
    "            f\"z_{pair[1][-2]}_{pair[1][-1]}_{disallowed_pair[0][0]}_{disallowed_pair[0][1]}_{disallowed_pair[0][2]}\")\n",
    "        kprime = model.getVarByName(\n",
    "            f\"z_{pair[0][-2]}_{pair[0][-1]}_{disallowed_pair[1][0]}_{disallowed_pair[1][1]}_{disallowed_pair[1][2]}\")\n",
    "\n",
    "        if not k:\n",
    "            k = model.addVar(\n",
    "                vtype=GRB.BINARY, name=f\"z_{pair[0][-2]}_{pair[0][-1]}_{disallowed_pair[0][0]}_{disallowed_pair[0][1]}_{disallowed_pair[0][2]}\")\n",
    "            model.update()\n",
    "            z_ijm.append(k)\n",
    "\n",
    "        if not kprime:\n",
    "            kprime = model.addVar(\n",
    "                vtype=GRB.BINARY, name=f\"z_{pair[1][-2]}_{pair[1][-1]}_{disallowed_pair[1][0]}_{disallowed_pair[1][1]}_{disallowed_pair[1][2]}\")\n",
    "            model.update()\n",
    "            z_ijm.append(kprime)\n",
    "\n",
    "        model.addConstr(k + kprime <= 1, name=k.varName + kprime.varName)"
   ]
  },
  {
   "cell_type": "markdown",
   "metadata": {},
   "source": [
    "At the same time, if a flight is assigned that movement, then the first flight must be assigned to the first gate in that movement and the second must be assigned to the second gate."
   ]
  },
  {
   "cell_type": "code",
   "execution_count": 649,
   "metadata": {},
   "outputs": [],
   "source": [
    "flt_to_y = defaultdict(list)\n",
    "yvars = []\n",
    "\n",
    "\n",
    "for flight in flights.itertuples():\n",
    "\n",
    "    for g in gates_prime:\n",
    "        flt_to_y[flight[-2]\n",
    "                 ].append(model.addVar(vtype=GRB.BINARY, name=f\"y_{flight[-2]}_{g}\"))\n",
    "        flt_to_y[flight[-1]\n",
    "                 ].append(model.addVar(vtype=GRB.BINARY, name=f\"y_{flight[-1]}_{g}\"))\n",
    "\n",
    "\n",
    "model.update()\n",
    "\n",
    "# add constraint 4.7\n",
    "for gateset in flt_to_y.values():\n",
    "    model.addConstr(gp.quicksum(gateset) == 1)"
   ]
  },
  {
   "cell_type": "code",
   "execution_count": 650,
   "metadata": {},
   "outputs": [],
   "source": [
    "for z in z_ijm:\n",
    "\n",
    "    seq = z.varName.split('_')\n",
    "    # make this if and only if\n",
    "    if not model.getVarByName(f\"y_{seq[1]}_{seq[3]}\"):\n",
    "        print(f\"y_{seq[1]}_{seq[3]}\")\n",
    "\n",
    "    # add constraints 4.4-6\n",
    "    model.addConstr(z <= model.getVarByName(\n",
    "        f\"y_{seq[1]}_{seq[3]}\"),  name=f\" z leq y_{seq[1]}_{seq[3]}\")\n",
    "    model.addConstr(z <= model.getVarByName(\n",
    "        f\"y_{seq[2]}_{seq[5]}\"),  name=f\" z leq y_{seq[2]}_{seq[5]}\")\n",
    "    model.addConstr(z >= model.getVarByName(f\"y_{seq[1]}_{seq[3]}\") + model.getVarByName(\n",
    "        f\"y_{seq[2]}_{seq[5]}\") - 1,  name=f\" z geq y_{seq[1]}_{seq[3]}\")"
   ]
  },
  {
   "cell_type": "markdown",
   "metadata": {},
   "source": [
    "Now we have to set $x_{ijab}$ for all valid pairs of connections."
   ]
  },
  {
   "cell_type": "code",
   "execution_count": 651,
   "metadata": {},
   "outputs": [],
   "source": [
    "connections = []\n",
    "\n",
    "# generate list of feasible connections\n",
    "for i in flights.iterrows():\n",
    "    for j in flights.iterrows():\n",
    "        if i[1][\"Arrival Time\"] < j[1][\"Departure Time\"]:\n",
    "            connections.append([i[1][\"code\"], j[1][\"outgoing code\"]])\n",
    "        if j[1][\"Arrival Time\"] < i[1][\"Departure Time\"]:\n",
    "            connections.append([j[1][\"code\"], i[1][\"outgoing code\"]])\n",
    "\n",
    "# generate number of pax on each connections\n",
    "cnx_num_pax = {tuple(connection): np.random.randint(1, 12)\n",
    "               for connection in connections}\n",
    "\n",
    "connections = list(cnx_num_pax.keys())"
   ]
  },
  {
   "cell_type": "code",
   "execution_count": 652,
   "metadata": {},
   "outputs": [],
   "source": [
    "xijabs = []\n",
    "for connection in connections:\n",
    "    for g1 in gates_prime[:-1]:\n",
    "        for g2 in gates_prime[:-1]:\n",
    "\n",
    "            xijabs.append(model.addVar(vtype=GRB.INTEGER,\n",
    "                          name=f\"x_{connection[0]}_{connection[1]}_{g1}_{g2}\"))\n",
    "\n",
    "model.update()"
   ]
  },
  {
   "cell_type": "markdown",
   "metadata": {},
   "source": [
    "Now we need to get our connection matrix - time available in between flights"
   ]
  },
  {
   "cell_type": "code",
   "execution_count": 653,
   "metadata": {},
   "outputs": [],
   "source": [
    "S = {}\n",
    "\n",
    "deplaning_time = 15\n",
    "cutoff_time = 15\n",
    "\n",
    "\n",
    "for i in connections:\n",
    "\n",
    "    obd_dep = str(\n",
    "        list(flights[flights['outgoing code'] == i[1]]['Departure Time'])[0])\n",
    "    inc_arr = str(list(flights[flights['code'] == i[0]]['Arrival Time'])[0])\n",
    "\n",
    "    S[i[0], i[1]] = (dateutil.parser.parse(\n",
    "        obd_dep) - dateutil.parser.parse(inc_arr)).seconds / 60 - (deplaning_time + cutoff_time)"
   ]
  },
  {
   "cell_type": "markdown",
   "metadata": {},
   "source": [
    "And the same for time to transit between gates "
   ]
  },
  {
   "cell_type": "code",
   "execution_count": 654,
   "metadata": {},
   "outputs": [
    {
     "data": {
      "text/plain": [
       "{73: True, 1562: True, 997: True, 860: True}"
      ]
     },
     "execution_count": 654,
     "metadata": {},
     "output_type": "execute_result"
    }
   ],
   "source": [
    "international_flights"
   ]
  },
  {
   "cell_type": "code",
   "execution_count": 655,
   "metadata": {},
   "outputs": [
    {
     "data": {
      "text/plain": [
       "48"
      ]
     },
     "execution_count": 655,
     "metadata": {},
     "output_type": "execute_result"
    }
   ],
   "source": [
    "wait_times = pd.read_excel(\"CBP_Wait_Times.xlsx\")[['Hour', 'All']]\n",
    "\n",
    "# drop first 3 rows\n",
    "wait_times = wait_times.iloc[3:]\n",
    "wait_times\n",
    "\n",
    "# split the hour column into two columns, delimeter is the dash inside the cells\n",
    "wait_times[['start', 'end']] = wait_times['Hour'].str.split(\"-\", expand=True)\n",
    "wait_times = wait_times.drop(columns=['Hour'])\n",
    "\n",
    "wait_times['start'].astype(int)\n",
    "\n",
    "wait_times = wait_times[['start', 'All']]\n",
    "wait_times = wait_times.set_index('start')\n",
    "wait_times_dict = wait_times.to_dict()[\"All\"]\n",
    "\n",
    "wait_times_dict['1500 ']"
   ]
  },
  {
   "cell_type": "markdown",
   "metadata": {},
   "source": [
    "The below code takes the longest to run, and would benefit greatly from multiprocessing."
   ]
  },
  {
   "cell_type": "code",
   "execution_count": 656,
   "metadata": {},
   "outputs": [],
   "source": [
    "t_ab = {}\n",
    "\n",
    "for i in connections:\n",
    "    for a in gates_prime:\n",
    "        for b in gates_prime:\n",
    "            pre_a, suf_a = a[0], int(a[1:])\n",
    "            pre_b, suf_b = b[0], int(b[1:])\n",
    "\n",
    "            if pre_a == 'D':\n",
    "                suf_a = suf_a + 28\n",
    "            if pre_b == 'D':\n",
    "                suf_b = suf_b + 28\n",
    "\n",
    "            intl_adj = 0\n",
    "\n",
    "            if i[0] in international_flights:\n",
    "\n",
    "                # query flights to get arrival time of flight i[0]\n",
    "                arr_time = dateutil.parser.parse(\n",
    "                    str(list(flights[flights['code'] == i[0]]['Arrival Time'])[0]))\n",
    "                if arr_time.hour * 100 < 1000:\n",
    "\n",
    "                    intl_adj = wait_times_dict[\"0\" +\n",
    "                                               str(arr_time.hour * 100)+\" \"]\n",
    "                else:\n",
    "                    try:\n",
    "                        intl_adj = wait_times_dict[str(\n",
    "                            arr_time.hour * 100)+\" \"]\n",
    "                    except KeyError:\n",
    "                        intl_adj = 60\n",
    "\n",
    "            t_ab[str(i[0]), a, b] = intl_adj + abs(suf_a - suf_b)"
   ]
  },
  {
   "cell_type": "markdown",
   "metadata": {},
   "source": [
    "now we need to add"
   ]
  },
  {
   "cell_type": "code",
   "execution_count": 657,
   "metadata": {},
   "outputs": [],
   "source": [
    "for x in xijabs:\n",
    "    seq = x.varName.split('_')\n",
    "\n",
    "    model.addConstr(S[float(seq[1]), float(seq[2])] >=\n",
    "                    t_ab[(seq[1], seq[3], seq[4])] - (10000000 * x))"
   ]
  },
  {
   "cell_type": "markdown",
   "metadata": {},
   "source": [
    "If and only if x_ijab and y_ia and y_jb are all 1, then w_ijab = 1."
   ]
  },
  {
   "cell_type": "code",
   "execution_count": 658,
   "metadata": {},
   "outputs": [],
   "source": [
    "x_to_w = {}\n",
    "for x in xijabs:\n",
    "    x_to_w[x] = model.addVar(\n",
    "        vtype=GRB.BINARY, name=f\"w_{'_'.join(x.varName.split('_')[1:])}\")\n",
    "\n",
    "model.update()\n",
    "\n",
    "for x in xijabs:\n",
    "    seq = x.varName.split('_')\n",
    "    y1 = model.getVarByName(f\"y_{seq[1]}_{seq[3]}\")\n",
    "    y2 = model.getVarByName(f\"y_{seq[2]}_{seq[4]}\")\n",
    "\n",
    "    model.addConstr(y1 + y2 + x - 2 <= x_to_w[x])"
   ]
  },
  {
   "cell_type": "code",
   "execution_count": 659,
   "metadata": {},
   "outputs": [],
   "source": [
    "ws = list(x_to_w.values())"
   ]
  },
  {
   "cell_type": "code",
   "execution_count": 660,
   "metadata": {},
   "outputs": [],
   "source": [
    "w_to_cnx = {}\n",
    "\n",
    "for w in ws:\n",
    "\n",
    "    w_to_cnx[w] = tuple(int(i) for i in w.VarName.split('_')[1:3])"
   ]
  },
  {
   "cell_type": "code",
   "execution_count": 661,
   "metadata": {},
   "outputs": [],
   "source": [
    "# model.setObjective(0, GRB.MAXIMIZE)"
   ]
  },
  {
   "cell_type": "code",
   "execution_count": 662,
   "metadata": {},
   "outputs": [],
   "source": [
    "model.setObjective(gp.quicksum(\n",
    "    cnx_num_pax[w_to_cnx[w]] * w for w in ws), GRB.MINIMIZE)"
   ]
  },
  {
   "cell_type": "code",
   "execution_count": 663,
   "metadata": {},
   "outputs": [
    {
     "name": "stdout",
     "output_type": "stream",
     "text": [
      "Gurobi Optimizer version 11.0.2 build v11.0.2rc0 (mac64[arm] - Darwin 23.0.0 23A344)\n",
      "\n",
      "CPU model: Apple M1\n",
      "Thread count: 8 physical cores, 8 logical processors, using up to 8 threads\n",
      "\n",
      "Optimize a model with 2121464 rows, 2097992 columns and 5294186 nonzeros\n",
      "Model fingerprint: 0x189c2de7\n",
      "Variable types: 0 continuous, 2097992 integer (1050616 binary)\n",
      "Coefficient statistics:\n",
      "  Matrix range     [1e+00, 1e+07]\n",
      "  Objective range  [1e+00, 1e+01]\n",
      "  Bounds range     [1e+00, 1e+00]\n",
      "  RHS range        [1e+00, 1e+03]\n",
      "Presolve removed 2017114 rows and 2017114 columns\n",
      "Presolve time: 0.58s\n",
      "Presolved: 104350 rows, 80878 columns, 290220 nonzeros\n",
      "Variable types: 0 continuous, 80878 integer (80878 binary)\n",
      "Found heuristic solution: objective 18.0000000\n",
      "Deterministic concurrent LP optimizer: primal and dual simplex\n",
      "Showing primal log only...\n",
      "\n",
      "Concurrent spin time: 0.00s\n",
      "\n",
      "Solved with dual simplex\n",
      "\n",
      "Root relaxation: objective 0.000000e+00, 484 iterations, 0.12 seconds (0.16 work units)\n",
      "\n",
      "    Nodes    |    Current Node    |     Objective Bounds      |     Work\n",
      " Expl Unexpl |  Obj  Depth IntInf | Incumbent    BestBd   Gap | It/Node Time\n",
      "\n",
      "H    0     0                       0.0000000    0.00000  0.00%     -    1s\n",
      "     0     0    0.00000    0   63    0.00000    0.00000  0.00%     -    1s\n",
      "\n",
      "Explored 1 nodes (484 simplex iterations) in 2.00 seconds (3.55 work units)\n",
      "Thread count was 8 (of 8 available processors)\n",
      "\n",
      "Solution count 2: 0 18 \n",
      "\n",
      "Optimal solution found (tolerance 1.00e-04)\n",
      "Best objective 0.000000000000e+00, best bound 0.000000000000e+00, gap 0.0000%\n"
     ]
    }
   ],
   "source": [
    "model.optimize()"
   ]
  },
  {
   "cell_type": "code",
   "execution_count": 664,
   "metadata": {},
   "outputs": [],
   "source": [
    "gateassignments = []\n",
    "for v in model.getVars():\n",
    "    if ('z' in v.VarName) and v.x == 1:\n",
    "\n",
    "        seq = v.varName.split('_')\n",
    "        if 'z' in v.varName:\n",
    "            gateassignments.append([seq[1], seq[2], seq[3]])"
   ]
  },
  {
   "cell_type": "code",
   "execution_count": 665,
   "metadata": {},
   "outputs": [
    {
     "data": {
      "text/html": [
       "<div>\n",
       "<style scoped>\n",
       "    .dataframe tbody tr th:only-of-type {\n",
       "        vertical-align: middle;\n",
       "    }\n",
       "\n",
       "    .dataframe tbody tr th {\n",
       "        vertical-align: top;\n",
       "    }\n",
       "\n",
       "    .dataframe thead th {\n",
       "        text-align: right;\n",
       "    }\n",
       "</style>\n",
       "<table border=\"1\" class=\"dataframe\">\n",
       "  <thead>\n",
       "    <tr style=\"text-align: right;\">\n",
       "      <th></th>\n",
       "      <th>Incoming Flight</th>\n",
       "      <th>Outgoing Flight</th>\n",
       "      <th>Gate</th>\n",
       "    </tr>\n",
       "  </thead>\n",
       "  <tbody>\n",
       "    <tr>\n",
       "      <th>0</th>\n",
       "      <td>783</td>\n",
       "      <td>2021</td>\n",
       "      <td>D12</td>\n",
       "    </tr>\n",
       "    <tr>\n",
       "      <th>1</th>\n",
       "      <td>2626</td>\n",
       "      <td>1154</td>\n",
       "      <td>D4</td>\n",
       "    </tr>\n",
       "    <tr>\n",
       "      <th>2</th>\n",
       "      <td>584</td>\n",
       "      <td>1964</td>\n",
       "      <td>D2</td>\n",
       "    </tr>\n",
       "    <tr>\n",
       "      <th>3</th>\n",
       "      <td>2050</td>\n",
       "      <td>380</td>\n",
       "      <td>C3</td>\n",
       "    </tr>\n",
       "    <tr>\n",
       "      <th>4</th>\n",
       "      <td>1395</td>\n",
       "      <td>1600</td>\n",
       "      <td>D6</td>\n",
       "    </tr>\n",
       "    <tr>\n",
       "      <th>5</th>\n",
       "      <td>73</td>\n",
       "      <td>700</td>\n",
       "      <td>C9</td>\n",
       "    </tr>\n",
       "    <tr>\n",
       "      <th>6</th>\n",
       "      <td>2046</td>\n",
       "      <td>277</td>\n",
       "      <td>C1</td>\n",
       "    </tr>\n",
       "    <tr>\n",
       "      <th>7</th>\n",
       "      <td>1562</td>\n",
       "      <td>618</td>\n",
       "      <td>C5</td>\n",
       "    </tr>\n",
       "    <tr>\n",
       "      <th>8</th>\n",
       "      <td>997</td>\n",
       "      <td>1744</td>\n",
       "      <td>C2</td>\n",
       "    </tr>\n",
       "    <tr>\n",
       "      <th>9</th>\n",
       "      <td>860</td>\n",
       "      <td>2058</td>\n",
       "      <td>C7</td>\n",
       "    </tr>\n",
       "    <tr>\n",
       "      <th>10</th>\n",
       "      <td>1325</td>\n",
       "      <td>641</td>\n",
       "      <td>C17</td>\n",
       "    </tr>\n",
       "    <tr>\n",
       "      <th>11</th>\n",
       "      <td>2280</td>\n",
       "      <td>260</td>\n",
       "      <td>D3</td>\n",
       "    </tr>\n",
       "    <tr>\n",
       "      <th>12</th>\n",
       "      <td>379</td>\n",
       "      <td>1949</td>\n",
       "      <td>C20</td>\n",
       "    </tr>\n",
       "    <tr>\n",
       "      <th>13</th>\n",
       "      <td>2492</td>\n",
       "      <td>1203</td>\n",
       "      <td>D1</td>\n",
       "    </tr>\n",
       "    <tr>\n",
       "      <th>14</th>\n",
       "      <td>1228</td>\n",
       "      <td>1406</td>\n",
       "      <td>C26</td>\n",
       "    </tr>\n",
       "    <tr>\n",
       "      <th>15</th>\n",
       "      <td>1657</td>\n",
       "      <td>667</td>\n",
       "      <td>C6</td>\n",
       "    </tr>\n",
       "    <tr>\n",
       "      <th>16</th>\n",
       "      <td>493</td>\n",
       "      <td>1443</td>\n",
       "      <td>C8</td>\n",
       "    </tr>\n",
       "    <tr>\n",
       "      <th>17</th>\n",
       "      <td>2487</td>\n",
       "      <td>381</td>\n",
       "      <td>C23</td>\n",
       "    </tr>\n",
       "    <tr>\n",
       "      <th>18</th>\n",
       "      <td>1274</td>\n",
       "      <td>2336</td>\n",
       "      <td>C12</td>\n",
       "    </tr>\n",
       "    <tr>\n",
       "      <th>19</th>\n",
       "      <td>745</td>\n",
       "      <td>2628</td>\n",
       "      <td>C19</td>\n",
       "    </tr>\n",
       "    <tr>\n",
       "      <th>20</th>\n",
       "      <td>1785</td>\n",
       "      <td>602</td>\n",
       "      <td>C4</td>\n",
       "    </tr>\n",
       "    <tr>\n",
       "      <th>21</th>\n",
       "      <td>2247</td>\n",
       "      <td>1661</td>\n",
       "      <td>C11</td>\n",
       "    </tr>\n",
       "    <tr>\n",
       "      <th>22</th>\n",
       "      <td>1599</td>\n",
       "      <td>2314</td>\n",
       "      <td>C18</td>\n",
       "    </tr>\n",
       "    <tr>\n",
       "      <th>23</th>\n",
       "      <td>2132</td>\n",
       "      <td>1809</td>\n",
       "      <td>C1</td>\n",
       "    </tr>\n",
       "  </tbody>\n",
       "</table>\n",
       "</div>"
      ],
      "text/plain": [
       "   Incoming Flight Outgoing Flight Gate\n",
       "0              783            2021  D12\n",
       "1             2626            1154   D4\n",
       "2              584            1964   D2\n",
       "3             2050             380   C3\n",
       "4             1395            1600   D6\n",
       "5               73             700   C9\n",
       "6             2046             277   C1\n",
       "7             1562             618   C5\n",
       "8              997            1744   C2\n",
       "9              860            2058   C7\n",
       "10            1325             641  C17\n",
       "11            2280             260   D3\n",
       "12             379            1949  C20\n",
       "13            2492            1203   D1\n",
       "14            1228            1406  C26\n",
       "15            1657             667   C6\n",
       "16             493            1443   C8\n",
       "17            2487             381  C23\n",
       "18            1274            2336  C12\n",
       "19             745            2628  C19\n",
       "20            1785             602   C4\n",
       "21            2247            1661  C11\n",
       "22            1599            2314  C18\n",
       "23            2132            1809   C1"
      ]
     },
     "execution_count": 665,
     "metadata": {},
     "output_type": "execute_result"
    }
   ],
   "source": [
    "assignment = pd.DataFrame(gateassignments, columns=[\n",
    "                          \"Incoming Flight\", \"Outgoing Flight\", \"Gate\"])\n",
    "# assignment.to_csv('gateassignments_Optimized_51_75.csv', index=False)\n",
    "assignment"
   ]
  },
  {
   "cell_type": "code",
   "execution_count": 666,
   "metadata": {},
   "outputs": [],
   "source": [
    "cnxpax = 0\n",
    "for x in xijabs:\n",
    "    if x.x > 0:\n",
    "        seq = x.varName.split('_')\n",
    "        if model.getVarByName(f\"y_{seq[1]}_{seq[3]}\").x == 1 and model.getVarByName(f\"y_{seq[2]}_{seq[4]}\").x == 1:\n",
    "            cnxpax += cnx_num_pax[int(x.varName.split('_')[1]),\n",
    "                                  int(x.varName.split('_')[2])]"
   ]
  },
  {
   "cell_type": "code",
   "execution_count": 667,
   "metadata": {},
   "outputs": [
    {
     "data": {
      "text/plain": [
       "0"
      ]
     },
     "execution_count": 667,
     "metadata": {},
     "output_type": "execute_result"
    }
   ],
   "source": [
    "cnxpax"
   ]
  },
  {
   "cell_type": "code",
   "execution_count": null,
   "metadata": {},
   "outputs": [],
   "source": []
  }
 ],
 "metadata": {
  "kernelspec": {
   "display_name": "Python 3",
   "language": "python",
   "name": "python3"
  },
  "language_info": {
   "codemirror_mode": {
    "name": "ipython",
    "version": 3
   },
   "file_extension": ".py",
   "mimetype": "text/x-python",
   "name": "python",
   "nbconvert_exporter": "python",
   "pygments_lexer": "ipython3",
   "version": "3.11.6"
  }
 },
 "nbformat": 4,
 "nbformat_minor": 2
}
